{
 "cells": [
  {
   "cell_type": "code",
   "execution_count": 1,
   "id": "2118cf72",
   "metadata": {},
   "outputs": [
    {
     "name": "stdout",
     "output_type": "stream",
     "text": [
      "✅ Matched 272 mutation(s). Saved to final_predicted_diseases.csv\n"
     ]
    }
   ],
   "source": [
    "import sqlite3\n",
    "import pandas as pd\n",
    "\n",
    "# Load detected mutations from BLAST\n",
    "mutations_df = pd.read_csv(\"../data/results/detected_mutations.csv\")\n",
    "mutations_df[\"ref_base\"] = mutations_df[\"ref_base\"].str.upper()\n",
    "mutations_df[\"alt_base\"] = mutations_df[\"alt_base\"].str.upper()\n",
    "\n",
    "# Load the variants from clinvar.db\n",
    "conn = sqlite3.connect(\"../data/clinvar/clinvar.db\")\n",
    "\n",
    "# Edit this table for different genes\n",
    "query = \"\"\"\n",
    "SELECT Start AS position, ReferenceAllele AS ref_base, AlternateAllele AS alt_base,\n",
    "       ClinicalSignificance AS clinical_significance, PhenotypeList AS disease\n",
    "FROM pten_variants\n",
    "WHERE ClinicalSignificance LIKE '%Pathogenic%' AND Type = 'single nucleotide variant'\n",
    "\"\"\"\n",
    "clinvar_df = pd.read_sql_query(query, conn)\n",
    "conn.close()\n",
    "\n",
    "# Ensure casing is consistent\n",
    "clinvar_df[\"ref_base\"] = clinvar_df[\"ref_base\"].str.upper()\n",
    "clinvar_df[\"alt_base\"] = clinvar_df[\"alt_base\"].str.upper()\n",
    "\n",
    "# mutations_df = mutations_df.drop_duplicates(subset=[\"position\", \"ref_base\", \"alt_base\"])\n",
    "\n",
    "# Match detected mutations to ClinVar\n",
    "matched = pd.merge(\n",
    "    mutations_df,\n",
    "    clinvar_df,\n",
    "    how=\"inner\",\n",
    "    on=[\"position\", \"ref_base\", \"alt_base\"]\n",
    ")\n",
    "\n",
    "matched.to_csv(\"../data/results/final_predicted_diseases.csv\", index=False)\n",
    "print(f\"✅ Matched {len(matched)} mutation(s). Saved to final_predicted_diseases.csv\")"
   ]
  }
 ],
 "metadata": {
  "kernelspec": {
   "display_name": "Python 3",
   "language": "python",
   "name": "python3"
  },
  "language_info": {
   "codemirror_mode": {
    "name": "ipython",
    "version": 3
   },
   "file_extension": ".py",
   "mimetype": "text/x-python",
   "name": "python",
   "nbconvert_exporter": "python",
   "pygments_lexer": "ipython3",
   "version": "3.12.2"
  }
 },
 "nbformat": 4,
 "nbformat_minor": 5
}
