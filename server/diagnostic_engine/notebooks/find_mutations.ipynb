{
 "cells": [
  {
   "cell_type": "code",
   "execution_count": 1,
   "id": "dfb10c28",
   "metadata": {},
   "outputs": [
    {
     "name": "stdout",
     "output_type": "stream",
     "text": [
      "✅ Extracted 5426 mutations from BLAST TSV output.\n"
     ]
    }
   ],
   "source": [
    "import pandas as pd\n",
    "\n",
    "# Offset for BRCA1: 43044295 - 1 \n",
    "# Offset for TP53:  7661779 - 1 \n",
    "# Offset for PTEN: 87863225 - 1 \n",
    "\n",
    "GENOMIC_OFFSET = 87863225 - 1 \n",
    "\n",
    "# Load the updated TSV with qseq and sseq\n",
    "cols = [\n",
    "    \"qseqid\", \"sseqid\", \"pident\", \"length\", \"mismatch\", \"gapopen\",\n",
    "    \"qstart\", \"qend\", \"sstart\", \"send\", \"evalue\", \"bitscore\",\n",
    "    \"qseq\", \"sseq\"\n",
    "]\n",
    "\n",
    "# Filepath for BRCA1: ../data/results/blast_output_brca1.tsv\n",
    "# Filepath for TP53: ../data/results/blast_output_tp53.tsv\n",
    "# Filepath for PTEN: ../data/results/blast_output_pten.tsv\n",
    "df = pd.read_csv(\"../data/results/blast_output_pten.tsv\", sep='\\t', names=cols)\n",
    "\n",
    "mutations = []\n",
    "\n",
    "for _, row in df.iterrows():\n",
    "    qseq = row[\"qseq\"]\n",
    "    sseq = row[\"sseq\"]\n",
    "    sstart = int(row[\"sstart\"])\n",
    "    send = int(row[\"send\"])\n",
    "\n",
    "    ref_pos = sstart if sstart < send else send  # lower bound\n",
    "    direction = 1 if send >= sstart else -1      # forward or reverse strand\n",
    "\n",
    "    pos = ref_pos\n",
    "    for q_base, s_base in zip(qseq, sseq):\n",
    "        if q_base != '-' and s_base != '-':\n",
    "            if q_base.upper() != s_base.upper():\n",
    "                genomic_pos = pos + GENOMIC_OFFSET\n",
    "                mutations.append({\n",
    "                    \"position\": genomic_pos,\n",
    "                    \"ref_base\": s_base.upper(),\n",
    "                    \"alt_base\": q_base.upper()\n",
    "                })\n",
    "            pos += direction\n",
    "        elif q_base == '-' and s_base != '-':\n",
    "            pos += direction  # skip deletion\n",
    "        elif s_base == '-' and q_base != '-':\n",
    "            pass  # skip insertion\n",
    "\n",
    "mut_df = pd.DataFrame(mutations)\n",
    "mut_df.to_csv(\"../data/results/detected_mutations.csv\", index=False)\n",
    "print(f\"✅ Extracted {len(mut_df)} mutations from BLAST TSV output.\")"
   ]
  }
 ],
 "metadata": {
  "kernelspec": {
   "display_name": "Python 3",
   "language": "python",
   "name": "python3"
  },
  "language_info": {
   "codemirror_mode": {
    "name": "ipython",
    "version": 3
   },
   "file_extension": ".py",
   "mimetype": "text/x-python",
   "name": "python",
   "nbconvert_exporter": "python",
   "pygments_lexer": "ipython3",
   "version": "3.12.2"
  }
 },
 "nbformat": 4,
 "nbformat_minor": 5
}
