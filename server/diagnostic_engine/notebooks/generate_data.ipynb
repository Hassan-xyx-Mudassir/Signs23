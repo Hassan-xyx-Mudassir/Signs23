{
 "cells": [
  {
   "cell_type": "markdown",
   "id": "2b07b25f",
   "metadata": {},
   "source": [
    "# PTEN"
   ]
  },
  {
   "cell_type": "code",
   "execution_count": 2,
   "id": "bc4dcda6",
   "metadata": {},
   "outputs": [
    {
     "name": "stdout",
     "output_type": "stream",
     "text": [
      "✅ Saved PTEN region (108706 bp) to ../data/references/pten_reference.fasta\n"
     ]
    }
   ],
   "source": [
    "from Bio import SeqIO\n",
    "from Bio.SeqRecord import SeqRecord\n",
    "\n",
    "input_path = \"../data/references/chr10_full.fasta\"\n",
    "output_path = \"../data/references/pten_reference.fasta\"\n",
    "\n",
    "start = 87863225 - 1\n",
    "end = 87971930\n",
    "\n",
    "record = SeqIO.read(input_path, \"fasta\")\n",
    "pten_seq = record.seq[start:end]\n",
    "\n",
    "pten_record = SeqRecord(\n",
    "    pten_seq,\n",
    "    id=\"PTEN_GRCh38\",\n",
    "    description=\"PTEN region extracted from chromosome 10\"\n",
    ")\n",
    "\n",
    "SeqIO.write(pten_record, output_path, \"fasta\")\n",
    "print(f\"✅ Saved PTEN region ({len(pten_seq)} bp) to {output_path}\")\n"
   ]
  },
  {
   "cell_type": "markdown",
   "id": "99699ef4",
   "metadata": {},
   "source": [
    "# TP53"
   ]
  },
  {
   "cell_type": "code",
   "execution_count": 2,
   "id": "e59089ba",
   "metadata": {},
   "outputs": [
    {
     "name": "stdout",
     "output_type": "stream",
     "text": [
      "✅ Saved TP53 region (25772 bp) to ../data/references/tp53_reference.fasta\n"
     ]
    }
   ],
   "source": [
    "from Bio import SeqIO\n",
    "from Bio.SeqRecord import SeqRecord\n",
    "\n",
    "input_path = \"../data/references/chr17_full.fasta\"\n",
    "output_path = \"../data/references/tp53_reference.fasta\"\n",
    "\n",
    "# TP53 location on GRCh38\n",
    "start = 7661779 - 1 # convert to 0-based index\n",
    "end = 7687550       # inclusive\n",
    "\n",
    "record = SeqIO.read(input_path, \"fasta\")\n",
    "tp53_seq = record.seq[start:end]\n",
    "\n",
    "# Save TP53 reference\n",
    "tp53_record = SeqRecord(\n",
    "    tp53_seq,\n",
    "    id=\"TP53_GRCh38\",\n",
    "    description=\"TP53 region extracted from chromosome 17\"\n",
    ")\n",
    "\n",
    "SeqIO.write(tp53_record, output_path, \"fasta\")\n",
    "print(f\"✅ Saved TP53 region ({len(tp53_seq)} bp) to {output_path}\")"
   ]
  },
  {
   "cell_type": "markdown",
   "id": "3f496cd7",
   "metadata": {},
   "source": [
    "# BRCA1"
   ]
  },
  {
   "cell_type": "code",
   "execution_count": 1,
   "id": "b0d5fceb",
   "metadata": {},
   "outputs": [
    {
     "name": "stdout",
     "output_type": "stream",
     "text": [
      "✅ Saved BRCA1 region (81188 bp) to ../data/references/brca1_reference.fasta\n"
     ]
    }
   ],
   "source": [
    "from Bio import SeqIO\n",
    "from Bio.SeqRecord import SeqRecord\n",
    "\n",
    "input_path = \"../data/references/chr17_full.fasta\"\n",
    "output_path = \"../data/references/brca1_reference.fasta\"\n",
    "\n",
    "# BRCA1 location on GRCh38\n",
    "start = 43044295 - 1  # convert to 0-based index\n",
    "end = 43125482        # inclusive\n",
    "\n",
    "record = SeqIO.read(input_path, \"fasta\")\n",
    "brca1_seq = record.seq[start:end]\n",
    "\n",
    "# Save BRCA1 reference\n",
    "brca1_record = SeqRecord(\n",
    "    brca1_seq,\n",
    "    id=\"BRCA1_GRCh38\",\n",
    "    description=\"BRCA1 region extracted from chromosome 17\"\n",
    ")\n",
    "\n",
    "SeqIO.write(brca1_record, output_path, \"fasta\")\n",
    "print(f\"✅ Saved BRCA1 region ({len(brca1_seq)} bp) to {output_path}\")"
   ]
  },
  {
   "cell_type": "markdown",
   "id": "53727cb1",
   "metadata": {},
   "source": [
    "# TP53 Patient"
   ]
  },
  {
   "cell_type": "code",
   "execution_count": 1,
   "id": "205e48c9",
   "metadata": {},
   "outputs": [
    {
     "name": "stdout",
     "output_type": "stream",
     "text": [
      "✅ Applied 863 mutation(s) to TP53. Saved mutated sample and ground truth.\n"
     ]
    }
   ],
   "source": [
    "import sqlite3\n",
    "import random\n",
    "\n",
    "# Load TP53 reference sequence\n",
    "with open(\"../data/references/tp53_reference.fasta\", \"r\") as f:\n",
    "    lines = f.readlines()\n",
    "    reference = \"\".join(line.strip() for line in lines if not line.startswith(\">\"))\n",
    "\n",
    "# Convert to mutable list\n",
    "sequence = list(reference)\n",
    "seq_len = len(sequence)\n",
    "\n",
    "# Load known mutations from clinvar.db\n",
    "conn = sqlite3.connect(\"../data/clinvar/clinvar.db\")\n",
    "query = \"\"\"\n",
    "SELECT Start AS position, ReferenceAllele AS ref_base, AlternateAllele AS alt_base\n",
    "FROM tp53_variants\n",
    "WHERE ClinicalSignificance LIKE '%Pathogenic%'\n",
    "  AND Type = 'single nucleotide variant'\n",
    "\"\"\"\n",
    "mutations = conn.execute(query).fetchall()\n",
    "conn.close()\n",
    "\n",
    "# Choose N random mutations to introduce\n",
    "N = 10\n",
    "random.shuffle(mutations)\n",
    "\n",
    "applied_mutations = []\n",
    "skipped_mutations = []\n",
    "\n",
    "# Offset of TP53 on chr17 (GRCh38)\n",
    "TP53_GENOMIC_START = 7661779\n",
    "\n",
    "for pos, ref, alt in mutations:\n",
    "    relative_pos = int(pos) - TP53_GENOMIC_START\n",
    "    if 0 <= relative_pos < len(sequence):\n",
    "        sequence[relative_pos] = alt.upper()\n",
    "        applied_mutations.append((int(pos), ref.upper(), alt.upper()))\n",
    "    else:\n",
    "        skipped_mutations.append((int(pos), ref.upper(), alt.upper(), \"OUT_OF_BOUNDS\"))\n",
    "\n",
    "# Save mutated patient sample\n",
    "with open(\"../data/samples/patient_tp53.fasta\", \"w\") as f:\n",
    "    f.write(\">fake_patient_with_known_mutations_tp53\\n\")\n",
    "    for i in range(0, len(sequence), 60):\n",
    "        f.write(\"\".join(sequence[i:i+60]) + \"\\n\")\n",
    "\n",
    "# Save truth data\n",
    "import pandas as pd\n",
    "df_applied = pd.DataFrame(applied_mutations, columns=[\"position\", \"ref_base\", \"alt_base\"])\n",
    "df_applied.to_csv(\"../data/samples/patient_truth_tp53.csv\", index=False)\n",
    "\n",
    "if skipped_mutations:\n",
    "    df_skipped = pd.DataFrame(skipped_mutations, columns=[\"position\", \"ref_base\", \"alt_base\", \"reason\"])\n",
    "    df_skipped.to_csv(\"../data/samples/skipped_mutations_log_tp53.csv\", index=False)\n",
    "\n",
    "print(f\"✅ Applied {len(applied_mutations)} mutation(s) to TP53. Saved mutated sample and ground truth.\")\n"
   ]
  },
  {
   "cell_type": "markdown",
   "id": "67fa02ea",
   "metadata": {},
   "source": [
    "# BRCA1 Patient"
   ]
  },
  {
   "cell_type": "code",
   "execution_count": null,
   "id": "bc5d8dd4",
   "metadata": {},
   "outputs": [
    {
     "name": "stdout",
     "output_type": "stream",
     "text": [
      "Loaded reference length: 81188\n",
      "✅ Applied 3766 mutation(s). Saved to fake_patient.fasta and fake_patient_truth.csv\n"
     ]
    }
   ],
   "source": [
    "import sqlite3\n",
    "import random\n",
    "\n",
    "# Load BRCA1 reference sequence\n",
    "with open(\"../data/references/brca1_reference.fasta\", \"r\") as f:\n",
    "    lines = f.readlines()\n",
    "    reference = \"\".join(line.strip() for line in lines if not line.startswith(\">\"))\n",
    "\n",
    "# Convert to mutable list\n",
    "sequence = list(reference)\n",
    "seq_len = len(sequence)\n",
    "\n",
    "# Load known mutations from clinvar.db\n",
    "conn = sqlite3.connect(\"../data/clinvar/clinvar.db\")\n",
    "query = \"\"\"\n",
    "SELECT Start AS position, ReferenceAllele AS ref_base, AlternateAllele AS alt_base\n",
    "FROM brca1_variants\n",
    "WHERE ClinicalSignificance LIKE '%Pathogenic%'\n",
    "  AND Type = 'single nucleotide variant'\n",
    "\"\"\"\n",
    "mutations = conn.execute(query).fetchall()\n",
    "conn.close()\n",
    "\n",
    "# Choose N random mutations to introduce\n",
    "N = 10\n",
    "random.shuffle(mutations)\n",
    "\n",
    "applied_mutations = []\n",
    "skipped_mutations = []\n",
    "\n",
    "# Offset for BRCA1 on chromosome 17 (GRCh38)\n",
    "BRCA1_GENOMIC_START = 43044295\n",
    "\n",
    "for pos, ref, alt in mutations:\n",
    "    relative_pos = int(pos) - BRCA1_GENOMIC_START\n",
    "    if 0 <= relative_pos < len(sequence):\n",
    "        original_base = sequence[relative_pos]\n",
    "        sequence[relative_pos] = alt.upper()\n",
    "        applied_mutations.append((int(pos), original_base.upper(), alt.upper()))\n",
    "    else:\n",
    "        skipped_mutations.append((int(pos), ref.upper(), alt.upper(), \"OUT_OF_BOUNDS\"))\n",
    "\n",
    "# Save mutated patient sample\n",
    "with open(\"../data/samples/patient_brca1.fasta\", \"w\") as f:\n",
    "    f.write(\">fake_patient_with_known_mutations_brca1\\n\")\n",
    "    for i in range(0, len(sequence), 60):\n",
    "        f.write(\"\".join(sequence[i:i+60]) + \"\\n\")\n",
    "\n",
    "# Save truth data\n",
    "import pandas as pd\n",
    "df_applied = pd.DataFrame(applied_mutations, columns=[\"position\", \"ref_base\", \"alt_base\"])\n",
    "df_applied.to_csv(\"../data/samples/patient_truth_brca1.csv\", index=False)\n",
    "\n",
    "print(f\"✅ Applied {len(applied_mutations)} mutation(s). Saved to brca1_patient.fasta and patient_brca1_truth.csv\")\n",
    "\n",
    "if skipped_mutations:\n",
    "    df_skipped = pd.DataFrame(skipped_mutations, columns=[\"position\", \"ref_base\", \"alt_base\", \"reason\"])\n",
    "    df_skipped.to_csv(\"../data/samples/skipped_mutations_log_brca1.csv\", index=False)\n",
    "    print(f\"⚠️ Skipped {len(skipped_mutations)} mutation(s). See skipped_mutations_log.csv for details.\")\n"
   ]
  },
  {
   "cell_type": "markdown",
   "id": "e9208175",
   "metadata": {},
   "source": [
    "# PTEN Patient"
   ]
  },
  {
   "cell_type": "code",
   "execution_count": 6,
   "id": "079083a4",
   "metadata": {},
   "outputs": [
    {
     "name": "stdout",
     "output_type": "stream",
     "text": [
      "✅ Applied 631 mutation(s) to PTEN. Saved mutated sample and ground truth.\n"
     ]
    }
   ],
   "source": [
    "import sqlite3\n",
    "import random\n",
    "\n",
    "with open(\"../data/references/pten_reference.fasta\", \"r\") as f:\n",
    "    lines = f.readlines()\n",
    "    reference = \"\".join(line.strip() for line in lines if not line.startswith(\">\"))\n",
    "\n",
    "sequence = list(reference)\n",
    "seq_len = len(sequence)\n",
    "\n",
    "conn = sqlite3.connect(\"../data/clinvar/clinvar.db\")\n",
    "query = \"\"\"\n",
    "SELECT Start AS position, ReferenceAllele AS ref_base, AlternateAllele AS alt_base\n",
    "FROM pten_variants\n",
    "WHERE ClinicalSignificance LIKE '%Pathogenic%'\n",
    "  AND Type = 'single nucleotide variant'\n",
    "\"\"\"\n",
    "mutations = conn.execute(query).fetchall()\n",
    "conn.close()\n",
    "\n",
    "N = 10\n",
    "random.shuffle(mutations)\n",
    "\n",
    "applied_mutations = []\n",
    "skipped_mutations = []\n",
    "\n",
    "PTEN_GENOMIC_START = 87863225\n",
    "\n",
    "for pos, ref, alt in mutations:\n",
    "    relative_pos = int(pos) - PTEN_GENOMIC_START\n",
    "    if 0 <= relative_pos < len(sequence):\n",
    "        sequence[relative_pos] = alt.upper()\n",
    "        applied_mutations.append((int(pos), ref.upper(), alt.upper()))\n",
    "    else:\n",
    "        skipped_mutations.append((int(pos), ref.upper(), alt.upper(), \"OUT_OF_BOUNDS\"))\n",
    "\n",
    "# Save mutated patient sample\n",
    "with open(\"../data/samples/patient_pten.fasta\", \"w\") as f:\n",
    "    f.write(\">fake_patient_with_known_mutations_pten\\n\")\n",
    "    for i in range(0, len(sequence), 60):\n",
    "        f.write(\"\".join(sequence[i:i+60]) + \"\\n\")\n",
    "\n",
    "# Save truth data\n",
    "import pandas as pd\n",
    "df_applied = pd.DataFrame(applied_mutations, columns=[\"position\", \"ref_base\", \"alt_base\"])\n",
    "df_applied.to_csv(\"../data/samples/patient_truth_pten.csv\", index=False)\n",
    "\n",
    "if skipped_mutations:\n",
    "    df_skipped = pd.DataFrame(skipped_mutations, columns=[\"position\", \"ref_base\", \"alt_base\", \"reason\"])\n",
    "    df_skipped.to_csv(\"../data/samples/skipped_mutations_log_pten.csv\", index=False)\n",
    "\n",
    "print(f\"✅ Applied {len(applied_mutations)} mutation(s) to PTEN. Saved mutated sample and ground truth.\")\n"
   ]
  }
 ],
 "metadata": {
  "kernelspec": {
   "display_name": "Python 3",
   "language": "python",
   "name": "python3"
  },
  "language_info": {
   "codemirror_mode": {
    "name": "ipython",
    "version": 3
   },
   "file_extension": ".py",
   "mimetype": "text/x-python",
   "name": "python",
   "nbconvert_exporter": "python",
   "pygments_lexer": "ipython3",
   "version": "3.12.2"
  }
 },
 "nbformat": 4,
 "nbformat_minor": 5
}
